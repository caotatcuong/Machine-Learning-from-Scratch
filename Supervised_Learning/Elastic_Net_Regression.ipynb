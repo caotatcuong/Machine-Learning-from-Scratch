{
 "cells": [
  {
   "cell_type": "markdown",
   "metadata": {},
   "source": [
    "# Import"
   ]
  },
  {
   "cell_type": "code",
   "execution_count": 1,
   "metadata": {},
   "outputs": [],
   "source": [
    "import numpy as np\n",
    "import pandas as pd\n",
    "import matplotlib.pyplot as plt\n",
    "from sklearn.model_selection import train_test_split"
   ]
  },
  {
   "cell_type": "markdown",
   "metadata": {},
   "source": [
    "# Implement"
   ]
  },
  {
   "cell_type": "code",
   "execution_count": 2,
   "metadata": {},
   "outputs": [],
   "source": [
    "class Elastic_Net_Regression:\n",
    "    def __init__(self, alpha=0.0001, max_iter=1000, l1=0.01, l2=0.01):\n",
    "        ''' \n",
    "        Class constructor\n",
    "        \n",
    "        Parameters\n",
    "        ----------\n",
    "        alpha: the learning rate determines how big the step would be on each iteration.\n",
    "        max_iter: number of times update weight\n",
    "        l1: l1 regularization\n",
    "        l2: l2 regularization\n",
    "        '''\n",
    "        self.alpha = alpha\n",
    "        self.max_iter = max_iter\n",
    "        self.l1 = l1\n",
    "        self.l2 = l2\n",
    "        self.weight = None\n",
    "        \n",
    "    def fit(self, X, y):\n",
    "        '''\n",
    "        Trains Elastic Net Regression on the dataset (X, y).\n",
    "        \n",
    "        Parameters\n",
    "        ----------\n",
    "        X : numpy array, shape (m, n)\n",
    "        The matrix of inputs\n",
    "        y : numpy array, shape (m, 1) \n",
    "        The vector of outputs.\n",
    "        '''\n",
    "            \n",
    "        # First column of this matrix is all ones (corresponding to x_0).\n",
    "        X = np.append(np.ones((X.shape[0], 1)), X, axis=1)\n",
    "        m, n = X.shape\n",
    "        \n",
    "        # Initialize weights shape (n + 1, 1)\n",
    "        self.weight =  np.ones((n, 1))\n",
    "        \n",
    "        for iter in range(self.max_iter):\n",
    "            error = (X @ self.weight) - y\n",
    "            grad0 = X.T[0].dot(error) / m\n",
    "            self.weight[0] -= self.alpha * grad0\n",
    "            for i in range(1, len(self.weight[1:])):\n",
    "                if self.weight[i] < 0:\n",
    "                    grad = (X.T[i].dot(error) / m) - (self.l1 / m) + (self.l2 / m) * self.weight[i]\n",
    "                    self.weight[i] -= self.alpha * grad\n",
    "                if self.weight[i] > 0:\n",
    "                    grad = (X.T[i].dot(error) / m) + (self.l1 / m) + (self.l2 / m) * self.weight[i]\n",
    "                    self.weight[i] -= self.alpha * grad      \n",
    "            \n",
    "            #Early stopping\n",
    "            if np.linalg.norm(self.weight, 2) < 1e-6:\n",
    "                break     \n",
    "                \n",
    "    def predict(self, X):\n",
    "        '''\n",
    "        Predict using the ridge model.\n",
    "        \n",
    "        Parameters\n",
    "        ----------\n",
    "        X : numpy array, shape (m, n)\n",
    "        The matrix of inputs\n",
    "        \n",
    "        Return\n",
    "        ----------\n",
    "        Returns predicted values.\n",
    "        '''\n",
    "        # First column of this matrix is all ones (corresponding to x_0).\n",
    "        X = np.append(np.ones((X.shape[0], 1)), X, axis=1)\n",
    "        return X @ self.weight"
   ]
  },
  {
   "cell_type": "code",
   "execution_count": 3,
   "metadata": {},
   "outputs": [],
   "source": [
    "def standardScaler(X):\n",
    "    return (X - np.mean(X)) / np.std(X)"
   ]
  },
  {
   "cell_type": "code",
   "execution_count": 4,
   "metadata": {},
   "outputs": [],
   "source": [
    "def r2(y_test, y_pred):\n",
    "    base = np.sum((y_pred - y_test.mean()) ** 2)\n",
    "    mse = np.sum((y_pred - y_test) ** 2)\n",
    "    r2 = 1 - (mse / base)\n",
    "    return r2"
   ]
  },
  {
   "cell_type": "markdown",
   "metadata": {},
   "source": [
    "# Test"
   ]
  },
  {
   "cell_type": "code",
   "execution_count": 5,
   "metadata": {},
   "outputs": [],
   "source": [
    "#Read data\n",
    "data = pd.read_excel('Data/Folds5x2_pp.xlsx').to_numpy()"
   ]
  },
  {
   "cell_type": "code",
   "execution_count": 6,
   "metadata": {},
   "outputs": [],
   "source": [
    "X = data[:,:4]\n",
    "y = data[:,-1].reshape(-1,1)\n",
    "\n",
    "X_train, X_test, y_train, y_test = train_test_split(X, y, test_size=0.2, random_state=42)"
   ]
  },
  {
   "cell_type": "code",
   "execution_count": 7,
   "metadata": {},
   "outputs": [],
   "source": [
    "# Using l1 = l2 = 0.1\n",
    "model = Elastic_Net_Regression(alpha=0.4, max_iter=150000, l1=0.1)\n",
    "\n",
    "X_train = standardScaler(X_train)\n",
    "y_train = standardScaler(y_train)\n",
    "model.fit(X_train, y_train)\n",
    "\n",
    "X_test = standardScaler(X_test)\n",
    "y_test = standardScaler(y_test)\n",
    "y_pred = model.predict(X_test)"
   ]
  },
  {
   "cell_type": "code",
   "execution_count": 8,
   "metadata": {},
   "outputs": [],
   "source": [
    "# Using l1 = l2 = 1\n",
    "model = Elastic_Net_Regression(alpha=0.1, max_iter=150000, l1=1)\n",
    "\n",
    "model.fit(X_train, y_train)\n",
    "\n",
    "y_pred1 = model.predict(X_test)"
   ]
  },
  {
   "cell_type": "code",
   "execution_count": 9,
   "metadata": {},
   "outputs": [],
   "source": [
    "# Using l1 = l2 = 5\n",
    "model = Elastic_Net_Regression(alpha=0.1, max_iter=150000, l1=5)\n",
    "\n",
    "model.fit(X_train, y_train)\n",
    "\n",
    "y_pred2 = model.predict(X_test)"
   ]
  },
  {
   "cell_type": "code",
   "execution_count": 10,
   "metadata": {},
   "outputs": [
    {
     "name": "stdout",
     "output_type": "stream",
     "text": [
      "Score of using l1 = l2 = 0.1: 0.9053963586456779\n",
      "Score of using l1 = l2 = 1: 0.8704012711942936\n",
      "Score of using l1 = l2 = 5: 0.8622711577404796\n"
     ]
    }
   ],
   "source": [
    "print('Score of using l1 = l2 = 0.1:', r2(y_test, y_pred))\n",
    "print('Score of using l1 = l2 = 1:', r2(y_test, y_pred1))\n",
    "print('Score of using l1 = l2 = 5:', r2(y_test, y_pred2))"
   ]
  }
 ],
 "metadata": {
  "kernelspec": {
   "display_name": "Python 3",
   "language": "python",
   "name": "python3"
  },
  "language_info": {
   "codemirror_mode": {
    "name": "ipython",
    "version": 3
   },
   "file_extension": ".py",
   "mimetype": "text/x-python",
   "name": "python",
   "nbconvert_exporter": "python",
   "pygments_lexer": "ipython3",
   "version": "3.7.6"
  },
  "toc": {
   "base_numbering": 1,
   "nav_menu": {},
   "number_sections": true,
   "sideBar": true,
   "skip_h1_title": false,
   "title_cell": "Table of Contents",
   "title_sidebar": "Contents",
   "toc_cell": false,
   "toc_position": {},
   "toc_section_display": true,
   "toc_window_display": false
  }
 },
 "nbformat": 4,
 "nbformat_minor": 4
}
