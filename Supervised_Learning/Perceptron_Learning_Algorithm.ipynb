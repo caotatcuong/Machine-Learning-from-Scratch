{
 "cells": [
  {
   "cell_type": "markdown",
   "metadata": {},
   "source": [
    "# Import"
   ]
  },
  {
   "cell_type": "code",
   "execution_count": 1,
   "metadata": {},
   "outputs": [],
   "source": [
    "import math\n",
    "import numpy as np\n",
    "import pandas as pd\n",
    "import matplotlib.pyplot as plt\n",
    "from sklearn.model_selection import train_test_split"
   ]
  },
  {
   "cell_type": "markdown",
   "metadata": {},
   "source": [
    "# Implement"
   ]
  },
  {
   "cell_type": "code",
   "execution_count": 2,
   "metadata": {},
   "outputs": [],
   "source": [
    "class Perceptron_Learning_Algorithm:\n",
    "    def __init__(self, max_iter=100):\n",
    "        ''' \n",
    "        Class constructor\n",
    "        \n",
    "        Parameters\n",
    "        ----------\n",
    "        max_iter: int \n",
    "            Number of times algorithm loop\n",
    "            \n",
    "        has_converged: boolean\n",
    "            If no misclassified then Algorithm stop.\n",
    "       \n",
    "        weight: float\n",
    "            Parameter that you multiply by signal connected through given connection\n",
    "        '''\n",
    "        self.max_iter = max_iter\n",
    "        self.weight = None\n",
    "        self.has_converged = False\n",
    "    \n",
    "    def hypothesis(self, X):\n",
    "        return np.sign(X @ self.weight)\n",
    "    \n",
    "    def fit(self, X, y):\n",
    "        '''\n",
    "        Trains Perceptron Learning Algorithm on the dataset (X, y).\n",
    "        \n",
    "        Parameters\n",
    "        ----------\n",
    "        X : numpy array, shape (m, n)\n",
    "        The matrix of inputs\n",
    "        y : numpy array, shape (m, 1) \n",
    "        The vector of outputs.\n",
    "        '''\n",
    "            \n",
    "        # First column of this matrix is all ones (corresponding to x_0).\n",
    "        X = np.append(np.ones((X.shape[0], 1)), X, axis=1)\n",
    "        m, n = X.shape\n",
    "        \n",
    "        # Initialize weights wwith shape (n + 1, 1) \n",
    "        limit = 1 / math.sqrt(n)\n",
    "        self.weight = np.random.uniform(-limit, limit, (n, 1))\n",
    "        \n",
    "        # Use Pocket Algorithm to optimize running time\n",
    "        pocket = []\n",
    "        for j in range(self.max_iter):\n",
    "            # Run each data point\n",
    "            for i in range(len(X)):        \n",
    "                if (self.hypothesis(X[i]) != y[i]).all():\n",
    "                    if not pocket:\n",
    "                        self.weight += (y[i] * X[i]).reshape(-1,1)\n",
    "                        pocket.append(self.weight)\n",
    "                        pocket.append((self.hypothesis(X) == y).sum())\n",
    "                    else:\n",
    "                        self.weight += (y[i] * X[i]).reshape(-1,1)\n",
    "                        if (self.hypothesis(X) == y).sum() > pocket[1]:\n",
    "                            pocket[0] = self.weight\n",
    "                            pocket[1] = (self.hypothesis(X) == y).sum()\n",
    "                        else:\n",
    "                            self.weight = pocket[0] \n",
    "            \n",
    "            if (self.hypothesis(X) == y).all():\n",
    "                self.has_converged = True\n",
    "                \n",
    "            if self.has_converged:\n",
    "                break \n",
    "                \n",
    "    def predict(self, X):\n",
    "        '''\n",
    "        Predict using the PLA model.\n",
    "        \n",
    "        Parameters\n",
    "        ----------\n",
    "        X : numpy array, shape (m, n)\n",
    "        The matrix of inputs\n",
    "        \n",
    "        Return\n",
    "        ----------\n",
    "        Returns predicted values.\n",
    "        '''\n",
    "        # First column of this matrix is all ones (corresponding to x_0).\n",
    "        X = np.append(np.ones((X.shape[0], 1)), X, axis=1)    \n",
    "        return np.sign(X @ self.weight)"
   ]
  },
  {
   "cell_type": "markdown",
   "metadata": {},
   "source": [
    "# Test"
   ]
  },
  {
   "cell_type": "code",
   "execution_count": 3,
   "metadata": {},
   "outputs": [],
   "source": [
    "from scipy.spatial.distance import cdist\n",
    "np.random.seed(2)\n",
    "\n",
    "means = [[2, 2], [4, 2]]\n",
    "cov = [[.3, .2], [.2, .3]]\n",
    "N = 10000\n",
    "X0 = np.random.multivariate_normal(means[0], cov, N).T\n",
    "X1 = np.random.multivariate_normal(means[1], cov, N).T\n",
    "\n",
    "X = np.concatenate((X0, X1), axis = 1).T\n",
    "y = np.concatenate((np.ones((1, N)), -1*np.ones((1, N))), axis = 1).reshape(-1,1)"
   ]
  },
  {
   "cell_type": "code",
   "execution_count": 4,
   "metadata": {},
   "outputs": [],
   "source": [
    "X_train, X_test, y_train, y_test = train_test_split(X, y, test_size=0.2, random_state=42)"
   ]
  },
  {
   "cell_type": "code",
   "execution_count": 5,
   "metadata": {},
   "outputs": [],
   "source": [
    "model = Perceptron_Learning_Algorithm(max_iter=50)\n",
    "model.fit(X_train, y_train)\n",
    "y_pred = model.predict(X_test)"
   ]
  },
  {
   "cell_type": "code",
   "execution_count": 6,
   "metadata": {},
   "outputs": [
    {
     "name": "stdout",
     "output_type": "stream",
     "text": [
      "Score: 0.99\n"
     ]
    }
   ],
   "source": [
    "print('Score:', np.mean(y_pred == y_test))"
   ]
  }
 ],
 "metadata": {
  "kernelspec": {
   "display_name": "Python 3",
   "language": "python",
   "name": "python3"
  },
  "language_info": {
   "codemirror_mode": {
    "name": "ipython",
    "version": 3
   },
   "file_extension": ".py",
   "mimetype": "text/x-python",
   "name": "python",
   "nbconvert_exporter": "python",
   "pygments_lexer": "ipython3",
   "version": "3.7.6"
  },
  "toc": {
   "base_numbering": 1,
   "nav_menu": {},
   "number_sections": true,
   "sideBar": true,
   "skip_h1_title": false,
   "title_cell": "Table of Contents",
   "title_sidebar": "Contents",
   "toc_cell": false,
   "toc_position": {},
   "toc_section_display": true,
   "toc_window_display": false
  }
 },
 "nbformat": 4,
 "nbformat_minor": 4
}
