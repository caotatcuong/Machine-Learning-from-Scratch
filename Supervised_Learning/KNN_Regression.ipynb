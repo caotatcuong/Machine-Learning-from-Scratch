{
 "cells": [
  {
   "cell_type": "markdown",
   "metadata": {},
   "source": [
    "# Import"
   ]
  },
  {
   "cell_type": "code",
   "execution_count": 1,
   "metadata": {},
   "outputs": [],
   "source": [
    "import numpy as np\n",
    "import pandas as pd\n",
    "import heapq\n",
    "from sklearn.model_selection import train_test_split"
   ]
  },
  {
   "cell_type": "markdown",
   "metadata": {},
   "source": [
    "# Implement"
   ]
  },
  {
   "cell_type": "code",
   "execution_count": 2,
   "metadata": {},
   "outputs": [],
   "source": [
    "def minkowskiDistance(x, y, p):\n",
    "    '''\n",
    "    Minkowski Distance between x, y\n",
    "    --------\n",
    "    Return\n",
    "    d: float\n",
    "    '''\n",
    "    d = 0\n",
    "    for i in range(len(x)):\n",
    "        d = d + (x[i] - y[i]) ** p\n",
    "    d = d ** (1/p) \n",
    "    return d"
   ]
  },
  {
   "cell_type": "code",
   "execution_count": 3,
   "metadata": {},
   "outputs": [],
   "source": [
    "class KNN_Regression:\n",
    "    def __init__(self, n_neighbors=5, p=2):\n",
    "        ''' \n",
    "        Class constructor\n",
    "        \n",
    "        Parameters\n",
    "        ----------\n",
    "        n_neighbors: int\n",
    "            Number of neighbors to use.\n",
    "        \n",
    "        p: int \n",
    "            type of norm\n",
    "        '''\n",
    "        self.n_neighbors = n_neighbors\n",
    "        self.p = p\n",
    "        \n",
    "    def fit(self, X, y):\n",
    "        '''\n",
    "        Get dataset (X, y).\n",
    "        \n",
    "        Parameters\n",
    "        ----------\n",
    "        X : numpy array, shape (m, n)\n",
    "            The matrix of inputs\n",
    "        y : numpy array, shape (m, 1) \n",
    "            The vector of outputs.\n",
    "        '''\n",
    "        self.X = X;\n",
    "        self.y = y;\n",
    "        \n",
    "    def predict(self, X):\n",
    "        '''\n",
    "        Predict using the ridge model.\n",
    "        \n",
    "        Parameters\n",
    "        ----------\n",
    "        X : numpy array, shape (m, n)\n",
    "        The matrix of inputs\n",
    "        \n",
    "        Return\n",
    "        ----------\n",
    "        Returns predicted values.\n",
    "        '''\n",
    "        y_pred = np.array([])\n",
    "        for i in range(len(X)):\n",
    "            listDistance = {}\n",
    "            for j in range(len(self.X)):\n",
    "                listDistance[j] = minkowskiDistance(X[i], self.X[j], self.p)\n",
    "            # Get n_neighbors row have smallest distance\n",
    "            topSmallest = heapq.nsmallest(self.n_neighbors, listDistance, key=listDistance.get)\n",
    "            # Predict class for this record\n",
    "            temp = 0\n",
    "            for j in topSmallest:\n",
    "                temp += self.y.item(j)\n",
    "            y_pred = np.append(y_pred, temp/len(topSmallest))\n",
    "        return y_pred.reshape(-1,1)"
   ]
  },
  {
   "cell_type": "code",
   "execution_count": 4,
   "metadata": {},
   "outputs": [],
   "source": [
    "def standardScaler(X):\n",
    "    return (X - np.mean(X)) / np.std(X)"
   ]
  },
  {
   "cell_type": "code",
   "execution_count": 5,
   "metadata": {},
   "outputs": [],
   "source": [
    "def r2(y_test, y_pred):\n",
    "    base = np.sum((y_pred - y_test.mean()) ** 2)\n",
    "    mse = np.sum((y_pred - y_test) ** 2)\n",
    "    r2 = 1 - (mse / base)\n",
    "    return r2"
   ]
  },
  {
   "cell_type": "markdown",
   "metadata": {},
   "source": [
    "# Test"
   ]
  },
  {
   "cell_type": "code",
   "execution_count": 6,
   "metadata": {},
   "outputs": [],
   "source": [
    "#Read data\n",
    "data = pd.read_excel('Data/Folds5x2_pp.xlsx').to_numpy()"
   ]
  },
  {
   "cell_type": "code",
   "execution_count": 7,
   "metadata": {},
   "outputs": [],
   "source": [
    "X = data[:,:4]\n",
    "y = data[:,-1].reshape(-1,1)\n",
    "\n",
    "X_train, X_test, y_train, y_test = train_test_split(X, y, test_size=0.2, random_state=42)"
   ]
  },
  {
   "cell_type": "code",
   "execution_count": 8,
   "metadata": {},
   "outputs": [],
   "source": [
    "model = KNN_Regression(n_neighbors=3)\n",
    "\n",
    "X_train = standardScaler(X_train)\n",
    "model.fit(X_train, y_train)\n",
    "\n",
    "X_test = standardScaler(X_test)\n",
    "y_pred = model.predict(X_test)"
   ]
  },
  {
   "cell_type": "code",
   "execution_count": 9,
   "metadata": {},
   "outputs": [
    {
     "name": "stdout",
     "output_type": "stream",
     "text": [
      "Score: 0.9445737860261655\n"
     ]
    }
   ],
   "source": [
    "print('Score:', r2(y_test, y_pred))"
   ]
  }
 ],
 "metadata": {
  "kernelspec": {
   "display_name": "Python 3",
   "language": "python",
   "name": "python3"
  },
  "language_info": {
   "codemirror_mode": {
    "name": "ipython",
    "version": 3
   },
   "file_extension": ".py",
   "mimetype": "text/x-python",
   "name": "python",
   "nbconvert_exporter": "python",
   "pygments_lexer": "ipython3",
   "version": "3.7.6"
  },
  "toc": {
   "base_numbering": 1,
   "nav_menu": {},
   "number_sections": true,
   "sideBar": true,
   "skip_h1_title": false,
   "title_cell": "Table of Contents",
   "title_sidebar": "Contents",
   "toc_cell": false,
   "toc_position": {},
   "toc_section_display": true,
   "toc_window_display": false
  }
 },
 "nbformat": 4,
 "nbformat_minor": 4
}
