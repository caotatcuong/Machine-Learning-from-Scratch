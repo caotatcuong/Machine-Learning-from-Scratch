{
 "cells": [
  {
   "cell_type": "markdown",
   "metadata": {},
   "source": [
    "# Import"
   ]
  },
  {
   "cell_type": "code",
   "execution_count": 1,
   "metadata": {},
   "outputs": [],
   "source": [
    "import numpy as np\n",
    "import matplotlib.pyplot as plt\n",
    "from sklearn import datasets"
   ]
  },
  {
   "cell_type": "markdown",
   "metadata": {},
   "source": [
    "# Implement"
   ]
  },
  {
   "cell_type": "code",
   "execution_count": 2,
   "metadata": {},
   "outputs": [],
   "source": [
    "def minkowskiDistance(x, y, p):\n",
    "    '''\n",
    "    Minkowski Distance between x, y\n",
    "    --------\n",
    "    Return\n",
    "    d: float\n",
    "    '''\n",
    "    d = 0\n",
    "    for i in range(len(x)):\n",
    "        d = d + (x[i] - y[i]) ** p\n",
    "    d = d ** (1/p) \n",
    "    return d"
   ]
  },
  {
   "cell_type": "code",
   "execution_count": 3,
   "metadata": {},
   "outputs": [],
   "source": [
    "class K_Means_plusplus:\n",
    "    def __init__(self, n_clusters=5, max_iter=1000, tol=0.001, has_converged=False, p=2):\n",
    "        ''' \n",
    "        Class constructor\n",
    "        \n",
    "        Parameters\n",
    "        ----------\n",
    "        n_clusters: int\n",
    "            The number of clusters to form as well as the number of centroids to generate.\n",
    "        \n",
    "        max_iter: int\n",
    "            Maximum number of iterations of the k-means algorithm for a single run.\n",
    "        \n",
    "        tol: float\n",
    "            The difference in the cluster centers of two consecutive iterations to declare convergence.\n",
    "            \n",
    "        has_converged: boolean \n",
    "            To check if the algorithm stop or not\n",
    "        \n",
    "        p: int \n",
    "            type of norm\n",
    "        '''\n",
    "        self.n_clusters = n_clusters\n",
    "        self.max_iter = max_iter\n",
    "        self.tol = tol\n",
    "        self.has_converged = has_converged\n",
    "        self.p = p\n",
    "    \n",
    "    \n",
    "    def initCentroids(self, X):\n",
    "        '''\n",
    "        initialized the centroids for K-means++ \n",
    "        \n",
    "        Parameters\n",
    "        ----------\n",
    "        X : numpy array, shape (m, n)\n",
    "            The matrix of inputs\n",
    "        '''\n",
    "        self.centroids = []\n",
    "        \n",
    "        # Initialize the first centroids \n",
    "        np.random.seed(0)\n",
    "        self.centroids.append(X[np.random.randint(0, len(X) - 1, 1)].ravel())\n",
    "\n",
    "        # Compute remaining centroids\n",
    "        for i in range(self.n_clusters - 1):\n",
    "            # List distance of each point to nearest centroids\n",
    "            distance = []\n",
    "            for j in range(len(X)):\n",
    "                d = []\n",
    "                for k in range(len(self.centroids)):\n",
    "                    d.append(minkowskiDistance(X[j], self.centroids[k], self.p))\n",
    "                distance.append(min(d))\n",
    "            self.centroids.append(X[distance.index(max(distance))])\n",
    "    \n",
    "    def updateCentroids(self, cur_centroids):\n",
    "        '''\n",
    "        Update centrodis\n",
    "        \n",
    "        Parameters\n",
    "        ----------\n",
    "        cur_centroids: list of new centroids\n",
    "        '''\n",
    "        self.has_converged=True\n",
    "        for i in range(0, self.n_clusters):\n",
    "            prev_centroid = self.centroids[i]\n",
    "            cur_centroid  = cur_centroids[i]\n",
    "            \n",
    "            d = minkowskiDistance(prev_centroid, cur_centroid, self.p)\n",
    "            \n",
    "            #checking if % of difference between old position and new position is more than thresold\n",
    "            if d > self.tol:\n",
    "                self.has_converged = False\n",
    "                self.centroids = cur_centroids\n",
    "                \n",
    "    def fit(self, X):\n",
    "        '''\n",
    "        Compute k-means clustering.\n",
    "        \n",
    "        Parameters\n",
    "        ----------\n",
    "        X : numpy array, shape (m, n)\n",
    "            The matrix of inputs\n",
    "        '''\n",
    "        self.initCentroids(X)\n",
    "        for i in range(self.max_iter):  \n",
    "            #Centroids for this iteration\n",
    "            cur_centroids = []\n",
    "            \n",
    "            for centroid in range(self.n_clusters):\n",
    "                #List samples of current cluster\n",
    "                samples = []\n",
    "                \n",
    "                for j in range(len(X)):\n",
    "                    d_list = []\n",
    "                    for k in range(self.n_clusters):\n",
    "                        d_list.append(minkowskiDistance(self.centroids[k], X[j], self.p))\n",
    "                    \n",
    "                    # Cluster has minimal distance between its centroid and data sample\n",
    "                    c = d_list.index(min(d_list))\n",
    "\n",
    "                    #Store sample to list\n",
    "                    if c == centroid:\n",
    "                        samples.append(X[j])   \n",
    "                \n",
    "                #The centroids of each cluster is a data point within that cluster such that the total distance from the points in the cluster to it is minimal. \n",
    "                new_centroid = sum(samples) / len(samples)\n",
    "            \n",
    "                cur_centroids.append(new_centroid)\n",
    "                \n",
    "            self.updateCentroids(cur_centroids)\n",
    "            if self.has_converged:\n",
    "                break\n",
    "        \n",
    "        #Each cluster represented by its centroid\n",
    "        return np.array(self.centroids)              \n",
    "        \n",
    "    def predict(self, X):\n",
    "        '''\n",
    "        Predict using the K-means++.\n",
    "        \n",
    "        Parameters\n",
    "        ----------\n",
    "        X : numpy array, shape (m, n)\n",
    "        The matrix of inputs\n",
    "        \n",
    "        Return\n",
    "        ----------\n",
    "        Returns predicted values.\n",
    "        '''\n",
    "\n",
    "        y_pred = []\n",
    "        for i in range(len(X)):\n",
    "            # Create list distances between centroids and data sample\n",
    "            d_list = []\n",
    "            for j in range(len(self.centroids)):               \n",
    "                # Calculate distances between current data sample and centroid\n",
    "                # Store to d_list\n",
    "                d_list.append(minkowskiDistance(self.centroids[j], X[i], self.p))\n",
    "                \n",
    "            # Store the Cluster has minimal distance between its centroid and current data sample to pred\n",
    "            y_pred.append(d_list.index(min(d_list)))\n",
    "        return np.array(y_pred)"
   ]
  },
  {
   "cell_type": "code",
   "execution_count": 4,
   "metadata": {},
   "outputs": [],
   "source": [
    "def standardScaler(X):\n",
    "    return (X - np.mean(X)) / np.std(X)"
   ]
  },
  {
   "cell_type": "markdown",
   "metadata": {},
   "source": [
    "# Test"
   ]
  },
  {
   "cell_type": "code",
   "execution_count": 5,
   "metadata": {},
   "outputs": [],
   "source": [
    "iris = datasets.load_iris()\n",
    "\n",
    "X = iris.data\n",
    "y = iris.target"
   ]
  },
  {
   "cell_type": "code",
   "execution_count": 6,
   "metadata": {},
   "outputs": [],
   "source": [
    "def calculate_WSS(X, k):\n",
    "    '''\n",
    "    Calculate the Within-Cluster-Sum of Squared Errors\n",
    "    '''\n",
    "    # Sum of square error\n",
    "    sse = []\n",
    "    for k in range(1, k+1):\n",
    "        model = K_Means_plusplus(n_clusters=k)\n",
    "        model.fit(X)\n",
    "        centroids = model.centroids\n",
    "        pred_clusters = model.predict(X)\n",
    "        curr_sse = 0\n",
    "    \n",
    "        # Calculate square of distance of each point from its cluster center and add to current WSS\n",
    "        for i in range(len(X)):\n",
    "            curr_center = centroids[pred_clusters[i]]\n",
    "            curr_sse += minkowskiDistance(X[i], curr_center, model.p) ** 2\n",
    "\n",
    "        sse.append(curr_sse)\n",
    "    return sse"
   ]
  },
  {
   "cell_type": "code",
   "execution_count": 7,
   "metadata": {},
   "outputs": [],
   "source": [
    "K = range(1,11)\n",
    "WSS = calculate_WSS(X, K[-1])"
   ]
  },
  {
   "cell_type": "code",
   "execution_count": 8,
   "metadata": {},
   "outputs": [
    {
     "data": {
      "image/png": "[encoded data removed]",
      "text/plain": [
       "<Figure size 432x288 with 1 Axes>"
      ]
     },
     "metadata": {
      "needs_background": "light"
     },
     "output_type": "display_data"
    }
   ],
   "source": [
    "plt.plot(K, WSS, 'bx-') \n",
    "plt.xlabel('Values of K') \n",
    "plt.ylabel('Sum of square error') \n",
    "plt.title('The Elbow Method') \n",
    "plt.show() "
   ]
  },
  {
   "cell_type": "markdown",
   "metadata": {},
   "source": [
    "The Elbow method indicate k = 3 is appropriate. Dataset also has 3 values in output. "
   ]
  },
  {
   "cell_type": "code",
   "execution_count": 9,
   "metadata": {},
   "outputs": [],
   "source": [
    "model = K_Means_plusplus(n_clusters=3)\n",
    "\n",
    "X = standardScaler(X)\n",
    "model.fit(X)\n",
    "\n",
    "y_pred = model.predict(X)"
   ]
  },
  {
   "cell_type": "code",
   "execution_count": 10,
   "metadata": {},
   "outputs": [
    {
     "data": {
      "text/plain": [
       "array([0, 0, 0, 0, 0, 0, 0, 0, 0, 0, 0, 0, 0, 0, 0, 0, 0, 0, 0, 0, 0, 0,\n",
       "       0, 0, 0, 0, 0, 0, 0, 0, 0, 0, 0, 0, 0, 0, 0, 0, 0, 0, 0, 0, 0, 0,\n",
       "       0, 0, 0, 0, 0, 0, 2, 2, 1, 2, 2, 2, 2, 2, 2, 2, 2, 2, 2, 2, 2, 2,\n",
       "       2, 2, 2, 2, 2, 2, 2, 2, 2, 2, 2, 1, 2, 2, 2, 2, 2, 2, 2, 2, 2, 2,\n",
       "       2, 2, 2, 2, 2, 2, 2, 2, 2, 2, 2, 2, 1, 2, 1, 1, 1, 1, 2, 1, 1, 1,\n",
       "       1, 1, 1, 2, 2, 1, 1, 1, 1, 2, 1, 2, 1, 2, 1, 1, 2, 2, 1, 1, 1, 1,\n",
       "       1, 2, 1, 1, 1, 1, 2, 1, 1, 1, 2, 1, 1, 1, 2, 1, 1, 2])"
      ]
     },
     "execution_count": 10,
     "metadata": {},
     "output_type": "execute_result"
    }
   ],
   "source": [
    "y_pred"
   ]
  },
  {
   "cell_type": "code",
   "execution_count": 11,
   "metadata": {},
   "outputs": [
    {
     "data": {
      "text/plain": [
       "array([0, 0, 0, 0, 0, 0, 0, 0, 0, 0, 0, 0, 0, 0, 0, 0, 0, 0, 0, 0, 0, 0,\n",
       "       0, 0, 0, 0, 0, 0, 0, 0, 0, 0, 0, 0, 0, 0, 0, 0, 0, 0, 0, 0, 0, 0,\n",
       "       0, 0, 0, 0, 0, 0, 1, 1, 1, 1, 1, 1, 1, 1, 1, 1, 1, 1, 1, 1, 1, 1,\n",
       "       1, 1, 1, 1, 1, 1, 1, 1, 1, 1, 1, 1, 1, 1, 1, 1, 1, 1, 1, 1, 1, 1,\n",
       "       1, 1, 1, 1, 1, 1, 1, 1, 1, 1, 1, 1, 2, 2, 2, 2, 2, 2, 2, 2, 2, 2,\n",
       "       2, 2, 2, 2, 2, 2, 2, 2, 2, 2, 2, 2, 2, 2, 2, 2, 2, 2, 2, 2, 2, 2,\n",
       "       2, 2, 2, 2, 2, 2, 2, 2, 2, 2, 2, 2, 2, 2, 2, 2, 2, 2])"
      ]
     },
     "execution_count": 11,
     "metadata": {},
     "output_type": "execute_result"
    }
   ],
   "source": [
    "y"
   ]
  },
  {
   "cell_type": "code",
   "execution_count": 12,
   "metadata": {},
   "outputs": [],
   "source": [
    "# Relabel y_pred to caculate score\n",
    "y_pred[y_pred==1]=3\n",
    "y_pred[y_pred==2]=1\n",
    "y_pred[y_pred==3]=2"
   ]
  },
  {
   "cell_type": "code",
   "execution_count": 13,
   "metadata": {},
   "outputs": [
    {
     "name": "stdout",
     "output_type": "stream",
     "text": [
      "Score: 0.8933333333333333\n"
     ]
    }
   ],
   "source": [
    "print('Score:', np.mean(y_pred == y))"
   ]
  }
 ],
 "metadata": {
  "kernelspec": {
   "display_name": "Python 3",
   "language": "python",
   "name": "python3"
  },
  "language_info": {
   "codemirror_mode": {
    "name": "ipython",
    "version": 3
   },
   "file_extension": ".py",
   "mimetype": "text/x-python",
   "name": "python",
   "nbconvert_exporter": "python",
   "pygments_lexer": "ipython3",
   "version": "3.7.6"
  },
  "toc": {
   "base_numbering": 1,
   "nav_menu": {},
   "number_sections": true,
   "sideBar": true,
   "skip_h1_title": false,
   "title_cell": "Table of Contents",
   "title_sidebar": "Contents",
   "toc_cell": false,
   "toc_position": {},
   "toc_section_display": true,
   "toc_window_display": false
  }
 },
 "nbformat": 4,
 "nbformat_minor": 4
}
